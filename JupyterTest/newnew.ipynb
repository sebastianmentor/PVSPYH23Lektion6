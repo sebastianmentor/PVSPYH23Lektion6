{
 "cells": [
  {
   "cell_type": "code",
   "execution_count": 3,
   "id": "ab1269c6-929c-40f8-b3c9-0c66c8414d3e",
   "metadata": {},
   "outputs": [],
   "source": [
    "import pandas as pd"
   ]
  },
  {
   "cell_type": "markdown",
   "id": "dc51fded-e953-43bf-92a7-e0088b3ae05b",
   "metadata": {},
   "source": [
    "# Hej på dig"
   ]
  },
  {
   "cell_type": "code",
   "execution_count": 4,
   "id": "1b04bfd3-28f2-49d2-9bef-023128b822d0",
   "metadata": {},
   "outputs": [],
   "source": [
    "import matplotlib"
   ]
  },
  {
   "cell_type": "code",
   "execution_count": null,
   "id": "e65e72bf-7cf4-43b1-b544-54d4e9ed163d",
   "metadata": {},
   "outputs": [],
   "source": []
  }
 ],
 "metadata": {
  "kernelspec": {
   "display_name": "Python 3 (ipykernel)",
   "language": "python",
   "name": "python3"
  },
  "language_info": {
   "codemirror_mode": {
    "name": "ipython",
    "version": 3
   },
   "file_extension": ".py",
   "mimetype": "text/x-python",
   "name": "python",
   "nbconvert_exporter": "python",
   "pygments_lexer": "ipython3",
   "version": "3.11.5"
  }
 },
 "nbformat": 4,
 "nbformat_minor": 5
}
