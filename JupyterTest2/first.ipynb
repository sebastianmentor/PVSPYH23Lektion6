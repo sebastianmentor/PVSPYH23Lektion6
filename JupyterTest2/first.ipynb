{
 "cells": [
  {
   "cell_type": "code",
   "execution_count": 6,
   "id": "4eddbff0-0e76-4290-8878-1f4806b21b58",
   "metadata": {},
   "outputs": [
    {
     "name": "stdout",
     "output_type": "stream",
     "text": [
      "15\n"
     ]
    }
   ],
   "source": [
    "5+5\n",
    "# hej hallå\n",
    "def add5(x):\n",
    "    return x + 5\n",
    "\n",
    "print(add5(5) + 5)"
   ]
  },
  {
   "cell_type": "markdown",
   "id": "48c8634d-e153-44bb-8e47-7007fccbbbf3",
   "metadata": {},
   "source": [
    "# Hej hallå! \n",
    "Jag ska jobba på en ny version av ChatGPT\n",
    "## Todo\n",
    "- Start working!"
   ]
  },
  {
   "cell_type": "code",
   "execution_count": 7,
   "id": "bf43bb2e-7594-4db4-94af-88687b68d8da",
   "metadata": {},
   "outputs": [
    {
     "name": "stdout",
     "output_type": "stream",
     "text": [
      "15\n"
     ]
    }
   ],
   "source": [
    "def addadd5(x):\n",
    "    return add5(x) + 5\n",
    "\n",
    "print(addadd5(5))"
   ]
  },
  {
   "cell_type": "code",
   "execution_count": 8,
   "id": "398f5cb8",
   "metadata": {},
   "outputs": [
    {
     "name": "stdout",
     "output_type": "stream",
     "text": [
      "2024-03-20 11:40:30.570211\n"
     ]
    }
   ],
   "source": [
    "import datetime\n",
    "\n",
    "print(datetime.datetime.now())"
   ]
  }
 ],
 "metadata": {
  "kernelspec": {
   "display_name": "Python 3 (ipykernel)",
   "language": "python",
   "name": "python3"
  },
  "language_info": {
   "codemirror_mode": {
    "name": "ipython",
    "version": 3
   },
   "file_extension": ".py",
   "mimetype": "text/x-python",
   "name": "python",
   "nbconvert_exporter": "python",
   "pygments_lexer": "ipython3",
   "version": "3.11.5"
  }
 },
 "nbformat": 4,
 "nbformat_minor": 5
}
